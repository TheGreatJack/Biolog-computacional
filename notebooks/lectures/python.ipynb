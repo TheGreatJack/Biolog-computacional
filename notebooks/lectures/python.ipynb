{
 "cells": [
  {
   "cell_type": "markdown",
   "metadata": {},
   "source": [
    "# The Wonderful World of Python"
   ]
  },
  {
   "cell_type": "markdown",
   "metadata": {},
   "source": [
    "## Variables"
   ]
  },
  {
   "cell_type": "code",
   "execution_count": 6,
   "metadata": {},
   "outputs": [
    {
     "name": "stdout",
     "output_type": "stream",
     "text": [
      "<class 'int'> <class 'int'> <class 'str'>\n",
      "a + b =  6\n"
     ]
    },
    {
     "data": {
      "text/plain": [
       "'hello'"
      ]
     },
     "execution_count": 6,
     "metadata": {},
     "output_type": "execute_result"
    }
   ],
   "source": [
    "a = 4\n",
    "b = 2\n",
    "c = 'hello'\n",
    "print(type(a), type(b), type(c))\n",
    "print('a + b = ', a + b)\n",
    "c"
   ]
  },
  {
   "cell_type": "markdown",
   "metadata": {},
   "source": [
    "## List"
   ]
  },
  {
   "cell_type": "code",
   "execution_count": 7,
   "metadata": {},
   "outputs": [
    {
     "name": "stdout",
     "output_type": "stream",
     "text": [
      "[1, 2, 3, 'hey', [10, 'never', 90], -32]\n",
      "6\n"
     ]
    }
   ],
   "source": [
    "a = [1, 2, 3, 'hey', [10, 'never', 90], -32]\n",
    "print(a)\n",
    "print(len(a))"
   ]
  },
  {
   "cell_type": "markdown",
   "metadata": {},
   "source": [
    "## Loops"
   ]
  },
  {
   "cell_type": "code",
   "execution_count": 8,
   "metadata": {},
   "outputs": [
    {
     "name": "stdout",
     "output_type": "stream",
     "text": [
      "0 --> 1\n",
      "1 --> 2\n",
      "2 --> 3\n",
      "3 --> hey\n",
      "4 --> [10, 'never', 90]\n",
      "5 --> -32\n"
     ]
    }
   ],
   "source": [
    "for i in range(len(a)):\n",
    "    print(i, '-->', a[i])"
   ]
  },
  {
   "cell_type": "code",
   "execution_count": 10,
   "metadata": {},
   "outputs": [
    {
     "name": "stdout",
     "output_type": "stream",
     "text": [
      "1\n",
      "2\n",
      "3\n",
      "hey\n",
      "[10, 'never', 90]\n",
      "-32\n"
     ]
    }
   ],
   "source": [
    "for i in a:\n",
    "    print(i)"
   ]
  },
  {
   "cell_type": "markdown",
   "metadata": {},
   "source": [
    "## Indexing"
   ]
  },
  {
   "cell_type": "code",
   "execution_count": 14,
   "metadata": {},
   "outputs": [
    {
     "name": "stdout",
     "output_type": "stream",
     "text": [
      "m y\n",
      "mont\n",
      "mn\n",
      "mn\n",
      "o\n"
     ]
    }
   ],
   "source": [
    "lt = 'monty python'\n",
    "print(lt[0], lt[4])\n",
    "print(lt[0:4])\n",
    "print(lt[0:4:2])\n",
    "print(lt[:4:2])\n",
    "\n",
    "print(lt[-2])"
   ]
  },
  {
   "cell_type": "markdown",
   "metadata": {},
   "source": [
    "### Functions"
   ]
  },
  {
   "cell_type": "code",
   "execution_count": 31,
   "metadata": {},
   "outputs": [
    {
     "data": {
      "text/plain": [
       "(6765, 14)"
      ]
     },
     "execution_count": 31,
     "metadata": {},
     "output_type": "execute_result"
    }
   ],
   "source": [
    "def fibo(n):\n",
    "    if n < 2:\n",
    "        return n\n",
    "    return fibo(n - 1) + fibo(n - 2)\n",
    "\n",
    "def sumi(a, b, c, d):\n",
    "    return a + b + c + d\n",
    "\n",
    "fibo(20), sumi(*[2, 3, 4, 5])"
   ]
  },
  {
   "cell_type": "markdown",
   "metadata": {},
   "source": [
    "## Numpy\n",
    "NumPy’s main object is the homogeneous multidimensional array.\n",
    "https://s3.amazonaws.com/assets.datacamp.com/blog_assets/Numpy_Python_Cheat_Sheet.pdf"
   ]
  },
  {
   "cell_type": "code",
   "execution_count": 3,
   "metadata": {},
   "outputs": [
    {
     "name": "stdout",
     "output_type": "stream",
     "text": [
      "[0 1 2 3]\n",
      "dim  1\n",
      "shape  (4,)\n",
      "len  4\n"
     ]
    }
   ],
   "source": [
    "import numpy as np\n",
    "a = np.array([0, 1, 2, 3])\n",
    "print(a)\n",
    "print('dim ', a.ndim)\n",
    "print('shape ', a.shape)"
   ]
  },
  {
   "cell_type": "code",
   "execution_count": 4,
   "metadata": {},
   "outputs": [
    {
     "name": "stdout",
     "output_type": "stream",
     "text": [
      "[[0 1 2]\n",
      " [3 4 5]]\n",
      "dim  2\n",
      "shape  (2, 3)\n"
     ]
    }
   ],
   "source": [
    "b = np.array([[0, 1, 2], [3, 4, 5]])\n",
    "print(b)\n",
    "print('dim ', b.ndim)\n",
    "print('shape ', b.shape)"
   ]
  },
  {
   "cell_type": "markdown",
   "metadata": {},
   "source": [
    "### Initial Placeholders"
   ]
  },
  {
   "cell_type": "code",
   "execution_count": 6,
   "metadata": {},
   "outputs": [
    {
     "name": "stdout",
     "output_type": "stream",
     "text": [
      "[0 1 2 3 4 5 6 7 8 9]\n",
      "[1 3 5 7]\n"
     ]
    }
   ],
   "source": [
    "print(np.arange(10))\n",
    "print(np.arange(1, 9, 2))"
   ]
  },
  {
   "cell_type": "code",
   "execution_count": 8,
   "metadata": {},
   "outputs": [
    {
     "name": "stdout",
     "output_type": "stream",
     "text": [
      "[0.  0.2 0.4 0.6 0.8 1. ]\n",
      "[0.  0.2 0.4 0.6 0.8]\n"
     ]
    }
   ],
   "source": [
    "print(np.linspace(0, 1, 6))\n",
    "\n",
    "print(np.linspace(0, 1, 5, endpoint=False))"
   ]
  },
  {
   "cell_type": "code",
   "execution_count": 12,
   "metadata": {},
   "outputs": [
    {
     "name": "stdout",
     "output_type": "stream",
     "text": [
      "[[1. 1. 1.]\n",
      " [1. 1. 1.]\n",
      " [1. 1. 1.]] \n",
      "\n",
      "[[0. 0.]\n",
      " [0. 0.]]\n"
     ]
    }
   ],
   "source": [
    "print(np.ones((3, 3)), '\\n')\n",
    "print(np.zeros((2, 2)))"
   ]
  },
  {
   "cell_type": "code",
   "execution_count": 13,
   "metadata": {},
   "outputs": [
    {
     "name": "stdout",
     "output_type": "stream",
     "text": [
      "[[1. 0. 0.]\n",
      " [0. 1. 0.]\n",
      " [0. 0. 1.]] \n",
      "\n",
      "[[0 0 0 0]\n",
      " [0 1 0 0]\n",
      " [0 0 2 0]\n",
      " [0 0 0 3]]\n"
     ]
    }
   ],
   "source": [
    "print(np.eye(3), '\\n')\n",
    "print(np.diag(np.arange(4)))"
   ]
  },
  {
   "cell_type": "code",
   "execution_count": 15,
   "metadata": {},
   "outputs": [
    {
     "name": "stdout",
     "output_type": "stream",
     "text": [
      "Unif [0.2544283  0.64987402 0.02980685 0.22119142]\n",
      "Norm [ 0.22362867 -0.32829941  0.92081352  0.69891951]\n"
     ]
    }
   ],
   "source": [
    "print('Unif', np.random.rand(4))\n",
    "print('Norm', np.random.randn(4))"
   ]
  },
  {
   "cell_type": "markdown",
   "metadata": {},
   "source": [
    "### Indexing"
   ]
  },
  {
   "cell_type": "code",
   "execution_count": 16,
   "metadata": {},
   "outputs": [
    {
     "data": {
      "text/plain": [
       "(0, 2, 9)"
      ]
     },
     "execution_count": 16,
     "metadata": {},
     "output_type": "execute_result"
    }
   ],
   "source": [
    "a = np.arange(10)\n",
    "a[0], a[2], a[-1]"
   ]
  },
  {
   "cell_type": "code",
   "execution_count": 20,
   "metadata": {},
   "outputs": [
    {
     "name": "stdout",
     "output_type": "stream",
     "text": [
      "[[0 0 0]\n",
      " [0 1 0]\n",
      " [0 0 2]]\n",
      "a[1,1] =  1\n",
      "[[ 0  0  0]\n",
      " [ 0  1  0]\n",
      " [ 0 10  2]]\n",
      "[0 1 0]\n"
     ]
    }
   ],
   "source": [
    "a = np.diag(np.arange(3))\n",
    "print(a)\n",
    "print('a[1,1] = ', a[1,1])\n",
    "a[2, 1] = 10\n",
    "print(a)\n",
    "print(a[1])"
   ]
  },
  {
   "cell_type": "markdown",
   "metadata": {},
   "source": [
    "![](https://claudiovz.github.io/scipy-lecture-notes-ES/_images/numpy_indexing.png)"
   ]
  },
  {
   "cell_type": "markdown",
   "metadata": {},
   "source": [
    "### Copy"
   ]
  },
  {
   "cell_type": "code",
   "execution_count": 27,
   "metadata": {},
   "outputs": [
    {
     "name": "stdout",
     "output_type": "stream",
     "text": [
      "[0 1 2 3 4 5 6 7 8 9]\n",
      "[0 2 4 6 8]\n",
      "[12  2  4  6  8]\n",
      "[12  1  2  3  4  5  6  7  8  9] WTF??\n"
     ]
    }
   ],
   "source": [
    "a = np.arange(10)\n",
    "print(a)\n",
    "b = a[::2]\n",
    "print(b)\n",
    "b[0] = 12\n",
    "print(b)\n",
    "print(a, 'WTF??')"
   ]
  },
  {
   "cell_type": "code",
   "execution_count": 28,
   "metadata": {},
   "outputs": [
    {
     "data": {
      "text/plain": [
       "array([0, 1, 2, 3, 4, 5, 6, 7, 8, 9])"
      ]
     },
     "execution_count": 28,
     "metadata": {},
     "output_type": "execute_result"
    }
   ],
   "source": [
    "a = np.arange(10)\n",
    "b = a[::2].copy()\n",
    "b[0] = 12\n",
    "a"
   ]
  },
  {
   "cell_type": "markdown",
   "metadata": {},
   "source": [
    "### Fancy indexing"
   ]
  },
  {
   "cell_type": "code",
   "execution_count": 39,
   "metadata": {},
   "outputs": [
    {
     "name": "stdout",
     "output_type": "stream",
     "text": [
      "[14 16  2 10 14  1  8 18  7 15 16  0  2 17 15]\n",
      "[0 0 0 0 0 1 0 0 1 1 0 0 0 1 1]\n",
      "[ True  True  True  True  True False  True  True False False  True  True\n",
      "  True False False]\n",
      "[14 16  2 10 14  8 18 16  0  2]\n"
     ]
    }
   ],
   "source": [
    "a = np.random.randint(0, 20, 15)\n",
    "print(a)\n",
    "print(a % 2)\n",
    "mask = (a % 2 == 0)\n",
    "print(mask)\n",
    "print(a[mask])"
   ]
  },
  {
   "cell_type": "code",
   "execution_count": 42,
   "metadata": {},
   "outputs": [
    {
     "name": "stdout",
     "output_type": "stream",
     "text": [
      "[14 16  2 10 14  1  8 18  7 15 16  0  2 17 15]\n",
      "[10  2 16 14  2  1]\n"
     ]
    }
   ],
   "source": [
    "print(a)\n",
    "print(a[[3, 2, 1, 4, 2, 5]])"
   ]
  },
  {
   "cell_type": "markdown",
   "metadata": {},
   "source": [
    "![](https://claudiovz.github.io/scipy-lecture-notes-ES/_images/numpy_fancy_indexing.png)"
   ]
  },
  {
   "cell_type": "markdown",
   "metadata": {},
   "source": [
    "### Operations"
   ]
  },
  {
   "cell_type": "code",
   "execution_count": 44,
   "metadata": {},
   "outputs": [
    {
     "name": "stdout",
     "output_type": "stream",
     "text": [
      "[2 3 4 5]\n",
      "[2 4 6 8]\n"
     ]
    }
   ],
   "source": [
    "a = np.array([1, 2, 3, 4])\n",
    "print(a + 1)\n",
    "print(2 * a)"
   ]
  },
  {
   "cell_type": "code",
   "execution_count": 47,
   "metadata": {},
   "outputs": [
    {
     "name": "stdout",
     "output_type": "stream",
     "text": [
      "[2. 2. 2. 2.]\n",
      "[-1.  0.  1.  2.]\n",
      "[2. 4. 6. 8.]\n"
     ]
    }
   ],
   "source": [
    "b = np.ones(4) + 1\n",
    "print(b)\n",
    "print(a - b)\n",
    "print(a * b)"
   ]
  },
  {
   "cell_type": "code",
   "execution_count": 48,
   "metadata": {},
   "outputs": [
    {
     "data": {
      "text/plain": [
       "array([ 2,  3,  6, 13, 28])"
      ]
     },
     "execution_count": 48,
     "metadata": {},
     "output_type": "execute_result"
    }
   ],
   "source": [
    "j = np.arange(5)\n",
    "2**(j + 1) - j"
   ]
  },
  {
   "cell_type": "code",
   "execution_count": 51,
   "metadata": {},
   "outputs": [
    {
     "name": "stdout",
     "output_type": "stream",
     "text": [
      "[[1. 1. 1.]\n",
      " [1. 1. 1.]\n",
      " [1. 1. 1.]]\n",
      "[[3. 3. 3.]\n",
      " [3. 3. 3.]\n",
      " [3. 3. 3.]]\n",
      "[[3. 3. 3.]\n",
      " [3. 3. 3.]\n",
      " [3. 3. 3.]]\n"
     ]
    }
   ],
   "source": [
    "c = np.ones((3, 3))\n",
    "print(c * c) # element-wise!\n",
    "print(c @ c) # 3.5 >=\n",
    "print(c.dot(c))"
   ]
  },
  {
   "cell_type": "code",
   "execution_count": 53,
   "metadata": {},
   "outputs": [
    {
     "name": "stdout",
     "output_type": "stream",
     "text": [
      "[False  True False  True]\n"
     ]
    }
   ],
   "source": [
    "a = np.array([1, 2, 3, 4])\n",
    "b = np.array([4, 2, 2, 4])\n",
    "print(a == b)"
   ]
  },
  {
   "cell_type": "markdown",
   "metadata": {},
   "source": [
    "### Reductions"
   ]
  },
  {
   "cell_type": "code",
   "execution_count": 54,
   "metadata": {},
   "outputs": [
    {
     "data": {
      "text/plain": [
       "10"
      ]
     },
     "execution_count": 54,
     "metadata": {},
     "output_type": "execute_result"
    }
   ],
   "source": [
    "x = np.array([1, 2, 3, 4])\n",
    "np.sum(x)"
   ]
  },
  {
   "cell_type": "code",
   "execution_count": 55,
   "metadata": {},
   "outputs": [
    {
     "name": "stdout",
     "output_type": "stream",
     "text": [
      "[[1 1]\n",
      " [2 2]]\n"
     ]
    }
   ],
   "source": [
    "x = np.array([[1, 1], [2, 2]])\n",
    "print(x)"
   ]
  },
  {
   "cell_type": "code",
   "execution_count": 56,
   "metadata": {},
   "outputs": [
    {
     "name": "stdout",
     "output_type": "stream",
     "text": [
      "[3 3]\n",
      "3 3\n"
     ]
    }
   ],
   "source": [
    "print(x.sum(axis=0)) # Col\n",
    "print(x[:, 0].sum(), x[:, 1].sum())"
   ]
  },
  {
   "cell_type": "code",
   "execution_count": 57,
   "metadata": {},
   "outputs": [
    {
     "name": "stdout",
     "output_type": "stream",
     "text": [
      "[2 4]\n",
      "2 4\n"
     ]
    }
   ],
   "source": [
    "print(x.sum(axis=1)) # Row\n",
    "print(x[0, :].sum(), x[1, :].sum())"
   ]
  },
  {
   "cell_type": "markdown",
   "metadata": {},
   "source": [
    "![](https://claudiovz.github.io/scipy-lecture-notes-ES/_images/reductions.png)"
   ]
  },
  {
   "cell_type": "code",
   "execution_count": 66,
   "metadata": {},
   "outputs": [
    {
     "name": "stdout",
     "output_type": "stream",
     "text": [
      "1.5 [1. 2.] 0.5\n"
     ]
    }
   ],
   "source": [
    "print(np.median(x), np.median(x, axis=-1), x.std())"
   ]
  },
  {
   "cell_type": "markdown",
   "metadata": {},
   "source": [
    "### Broadcast\n",
    "![](https://claudiovz.github.io/scipy-lecture-notes-ES/_images/numpy_broadcasting.png)"
   ]
  },
  {
   "cell_type": "markdown",
   "metadata": {},
   "source": [
    "## Matplotlib"
   ]
  },
  {
   "cell_type": "code",
   "execution_count": null,
   "metadata": {},
   "outputs": [],
   "source": []
  },
  {
   "cell_type": "code",
   "execution_count": null,
   "metadata": {},
   "outputs": [],
   "source": []
  },
  {
   "cell_type": "markdown",
   "metadata": {},
   "source": [
    "## Pandas"
   ]
  },
  {
   "cell_type": "markdown",
   "metadata": {},
   "source": [
    "### Series"
   ]
  },
  {
   "cell_type": "code",
   "execution_count": 68,
   "metadata": {},
   "outputs": [
    {
     "data": {
      "text/plain": [
       "0    1.0\n",
       "1    3.0\n",
       "2    5.0\n",
       "3    NaN\n",
       "4    6.0\n",
       "5    8.0\n",
       "dtype: float64"
      ]
     },
     "execution_count": 68,
     "metadata": {},
     "output_type": "execute_result"
    }
   ],
   "source": [
    "import pandas as pd\n",
    "s = pd.Series([1,3,5,np.nan,6,8])\n",
    "s"
   ]
  },
  {
   "cell_type": "code",
   "execution_count": 72,
   "metadata": {},
   "outputs": [
    {
     "name": "stdout",
     "output_type": "stream",
     "text": [
      "[ 1.  3.  5. nan  6.  8.]\n",
      "RangeIndex(start=0, stop=6, step=1)\n"
     ]
    }
   ],
   "source": [
    "print(s.values)\n",
    "print(s.index)"
   ]
  },
  {
   "cell_type": "code",
   "execution_count": 81,
   "metadata": {},
   "outputs": [
    {
     "name": "stdout",
     "output_type": "stream",
     "text": [
      "0    1.0\n",
      "1    3.0\n",
      "2    5.0\n",
      "3    NaN\n",
      "dtype: float64\n"
     ]
    }
   ],
   "source": [
    "print(s.loc[:3])"
   ]
  },
  {
   "cell_type": "code",
   "execution_count": 84,
   "metadata": {},
   "outputs": [
    {
     "name": "stdout",
     "output_type": "stream",
     "text": [
      "4.6 23.0 2.701851217221259\n",
      "nan nan nan\n"
     ]
    }
   ],
   "source": [
    "print(s.mean(), s.sum(), s.std())\n",
    "print(s.values.mean(), s.values.sum(), s.values.std())"
   ]
  },
  {
   "cell_type": "code",
   "execution_count": 83,
   "metadata": {},
   "outputs": [
    {
     "data": {
      "text/plain": [
       "count    5.000000\n",
       "mean     4.600000\n",
       "std      2.701851\n",
       "min      1.000000\n",
       "25%      3.000000\n",
       "50%      5.000000\n",
       "75%      6.000000\n",
       "max      8.000000\n",
       "dtype: float64"
      ]
     },
     "execution_count": 83,
     "metadata": {},
     "output_type": "execute_result"
    }
   ],
   "source": [
    "s.describe()"
   ]
  },
  {
   "cell_type": "code",
   "execution_count": 86,
   "metadata": {},
   "outputs": [
    {
     "data": {
      "text/plain": [
       "<matplotlib.axes._subplots.AxesSubplot at 0x7f3c8b3f03c8>"
      ]
     },
     "execution_count": 86,
     "metadata": {},
     "output_type": "execute_result"
    },
    {
     "data": {
      "image/png": "[encoded data removed]",
      "text/plain": [
       "<Figure size 432x288 with 1 Axes>"
      ]
     },
     "metadata": {
      "needs_background": "light"
     },
     "output_type": "display_data"
    }
   ],
   "source": [
    "%matplotlib inline\n",
    "s.plot()"
   ]
  },
  {
   "cell_type": "code",
   "execution_count": 102,
   "metadata": {},
   "outputs": [
    {
     "name": "stdout",
     "output_type": "stream",
     "text": [
      "a    66.718780\n",
      "b    90.761998\n",
      "c    72.520439\n",
      "d    93.290622\n",
      "dtype: float64 \n",
      "\n",
      "66.71878000127889 66.71878000127889 \n",
      "\n",
      "a    66.718780\n",
      "c    72.520439\n",
      "b    90.761998\n",
      "dtype: float64 \n",
      "\n",
      "c    72.520439\n",
      "d    93.290622\n",
      "dtype: float64\n"
     ]
    }
   ],
   "source": [
    "score = pd.Series(np.random.rand(4) * 100, index=['a', 'b', 'c', 'd'])\n",
    "print(score,'\\n')\n",
    "print(score['a'], score.loc['a'], '\\n')\n",
    "print(score.loc[['a', 'c', 'b']], '\\n')\n",
    "print(score.iloc[2:4])"
   ]
  },
  {
   "cell_type": "code",
   "execution_count": 103,
   "metadata": {},
   "outputs": [
    {
     "data": {
      "text/plain": [
       "<matplotlib.axes._subplots.AxesSubplot at 0x7f3c8b3d4198>"
      ]
     },
     "execution_count": 103,
     "metadata": {},
     "output_type": "execute_result"
    },
    {
     "data": {
      "image/png": "[encoded data removed]",
      "text/plain": [
       "<Figure size 432x288 with 1 Axes>"
      ]
     },
     "metadata": {
      "needs_background": "light"
     },
     "output_type": "display_data"
    }
   ],
   "source": [
    "score.plot('bar')"
   ]
  },
  {
   "cell_type": "code",
   "execution_count": 105,
   "metadata": {},
   "outputs": [
    {
     "data": {
      "text/plain": [
       "DatetimeIndex(['2017-01-01', '2017-01-02', '2017-01-03', '2017-01-04',\n",
       "               '2017-01-05', '2017-01-06', '2017-01-07', '2017-01-08',\n",
       "               '2017-01-09', '2017-01-10',\n",
       "               ...\n",
       "               '2019-09-18', '2019-09-19', '2019-09-20', '2019-09-21',\n",
       "               '2019-09-22', '2019-09-23', '2019-09-24', '2019-09-25',\n",
       "               '2019-09-26', '2019-09-27'],\n",
       "              dtype='datetime64[ns]', length=1000, freq='D')"
      ]
     },
     "execution_count": 105,
     "metadata": {},
     "output_type": "execute_result"
    }
   ],
   "source": [
    "pd.date_range('1/1/2017', periods=1000)"
   ]
  },
  {
   "cell_type": "code",
   "execution_count": 112,
   "metadata": {},
   "outputs": [
    {
     "data": {
      "text/plain": [
       "<matplotlib.axes._subplots.AxesSubplot at 0x7f3c8af39e48>"
      ]
     },
     "execution_count": 112,
     "metadata": {},
     "output_type": "execute_result"
    },
    {
     "data": {
      "image/png": "[encoded data removed]",
      "text/plain": [
       "<Figure size 432x288 with 1 Axes>"
      ]
     },
     "metadata": {
      "needs_background": "light"
     },
     "output_type": "display_data"
    }
   ],
   "source": [
    "ts = pd.Series(np.random.randn(1000), index=pd.date_range('1/1/2017', periods=1000))\n",
    "ts.plot()"
   ]
  },
  {
   "cell_type": "code",
   "execution_count": 113,
   "metadata": {},
   "outputs": [
    {
     "data": {
      "text/plain": [
       "<matplotlib.axes._subplots.AxesSubplot at 0x7f3c8ae87cf8>"
      ]
     },
     "execution_count": 113,
     "metadata": {},
     "output_type": "execute_result"
    },
    {
     "data": {
      "image/png": "[encoded data removed]",
      "text/plain": [
       "<Figure size 432x288 with 1 Axes>"
      ]
     },
     "metadata": {
      "needs_background": "light"
     },
     "output_type": "display_data"
    }
   ],
   "source": [
    "ts.cumsum().plot()"
   ]
  },
  {
   "cell_type": "markdown",
   "metadata": {},
   "source": [
    "### Dataframe"
   ]
  },
  {
   "cell_type": "code",
   "execution_count": 116,
   "metadata": {},
   "outputs": [],
   "source": [
    "df = pd.read_csv(\"data/comptagevelo2009.csv\")"
   ]
  },
  {
   "cell_type": "code",
   "execution_count": 117,
   "metadata": {},
   "outputs": [
    {
     "name": "stdout",
     "output_type": "stream",
     "text": [
      "Date,,Berri1,Maisonneuve_1,Maisonneuve_2,Brébeuf\r\n",
      "01/01/2009,00:00,29,20,35,\r\n",
      "02/01/2009,00:00,19,3,22,\r\n",
      "03/01/2009,00:00,24,12,22,\r\n",
      "04/01/2009,00:00,24,8,15,\r\n",
      "05/01/2009,00:00,120,111,141,\r\n",
      "06/01/2009,00:00,261,146,236,\r\n",
      "07/01/2009,00:00,60,33,80,\r\n",
      "08/01/2009,00:00,24,14,14,\r\n",
      "09/01/2009,00:00,35,20,32,\r\n"
     ]
    }
   ],
   "source": [
    "!head data/comptagevelo2009.csv"
   ]
  },
  {
   "cell_type": "code",
   "execution_count": 118,
   "metadata": {},
   "outputs": [
    {
     "data": {
      "text/html": [
       "<div>\n",
       "<style scoped>\n",
       "    .dataframe tbody tr th:only-of-type {\n",
       "        vertical-align: middle;\n",
       "    }\n",
       "\n",
       "    .dataframe tbody tr th {\n",
       "        vertical-align: top;\n",
       "    }\n",
       "\n",
       "    .dataframe thead th {\n",
       "        text-align: right;\n",
       "    }\n",
       "</style>\n",
       "<table border=\"1\" class=\"dataframe\">\n",
       "  <thead>\n",
       "    <tr style=\"text-align: right;\">\n",
       "      <th></th>\n",
       "      <th>Date</th>\n",
       "      <th>Unnamed: 1</th>\n",
       "      <th>Berri1</th>\n",
       "      <th>Maisonneuve_1</th>\n",
       "      <th>Maisonneuve_2</th>\n",
       "      <th>Brébeuf</th>\n",
       "    </tr>\n",
       "  </thead>\n",
       "  <tbody>\n",
       "    <tr>\n",
       "      <th>0</th>\n",
       "      <td>01/01/2009</td>\n",
       "      <td>00:00</td>\n",
       "      <td>29</td>\n",
       "      <td>20</td>\n",
       "      <td>35</td>\n",
       "      <td>NaN</td>\n",
       "    </tr>\n",
       "    <tr>\n",
       "      <th>1</th>\n",
       "      <td>02/01/2009</td>\n",
       "      <td>00:00</td>\n",
       "      <td>19</td>\n",
       "      <td>3</td>\n",
       "      <td>22</td>\n",
       "      <td>NaN</td>\n",
       "    </tr>\n",
       "    <tr>\n",
       "      <th>2</th>\n",
       "      <td>03/01/2009</td>\n",
       "      <td>00:00</td>\n",
       "      <td>24</td>\n",
       "      <td>12</td>\n",
       "      <td>22</td>\n",
       "      <td>NaN</td>\n",
       "    </tr>\n",
       "    <tr>\n",
       "      <th>3</th>\n",
       "      <td>04/01/2009</td>\n",
       "      <td>00:00</td>\n",
       "      <td>24</td>\n",
       "      <td>8</td>\n",
       "      <td>15</td>\n",
       "      <td>NaN</td>\n",
       "    </tr>\n",
       "    <tr>\n",
       "      <th>4</th>\n",
       "      <td>05/01/2009</td>\n",
       "      <td>00:00</td>\n",
       "      <td>120</td>\n",
       "      <td>111</td>\n",
       "      <td>141</td>\n",
       "      <td>NaN</td>\n",
       "    </tr>\n",
       "  </tbody>\n",
       "</table>\n",
       "</div>"
      ],
      "text/plain": [
       "         Date Unnamed: 1  Berri1  Maisonneuve_1  Maisonneuve_2  Brébeuf\n",
       "0  01/01/2009      00:00      29             20             35      NaN\n",
       "1  02/01/2009      00:00      19              3             22      NaN\n",
       "2  03/01/2009      00:00      24             12             22      NaN\n",
       "3  04/01/2009      00:00      24              8             15      NaN\n",
       "4  05/01/2009      00:00     120            111            141      NaN"
      ]
     },
     "execution_count": 118,
     "metadata": {},
     "output_type": "execute_result"
    }
   ],
   "source": [
    "df.head()"
   ]
  },
  {
   "cell_type": "code",
   "execution_count": 121,
   "metadata": {},
   "outputs": [
    {
     "name": "stdout",
     "output_type": "stream",
     "text": [
      "Index(['Date', 'Unnamed: 1', 'Berri1', 'Maisonneuve_1', 'Maisonneuve_2',\n",
      "       'Brébeuf'],\n",
      "      dtype='object')\n",
      "(365, 6)\n"
     ]
    }
   ],
   "source": [
    "print(df.columns)\n",
    "print(df.shape)"
   ]
  },
  {
   "cell_type": "code",
   "execution_count": 124,
   "metadata": {},
   "outputs": [
    {
     "data": {
      "text/html": [
       "<div>\n",
       "<style scoped>\n",
       "    .dataframe tbody tr th:only-of-type {\n",
       "        vertical-align: middle;\n",
       "    }\n",
       "\n",
       "    .dataframe tbody tr th {\n",
       "        vertical-align: top;\n",
       "    }\n",
       "\n",
       "    .dataframe thead th {\n",
       "        text-align: right;\n",
       "    }\n",
       "</style>\n",
       "<table border=\"1\" class=\"dataframe\">\n",
       "  <thead>\n",
       "    <tr style=\"text-align: right;\">\n",
       "      <th></th>\n",
       "      <th>Berri1</th>\n",
       "      <th>Maisonneuve_1</th>\n",
       "      <th>Maisonneuve_2</th>\n",
       "      <th>Brébeuf</th>\n",
       "    </tr>\n",
       "  </thead>\n",
       "  <tbody>\n",
       "    <tr>\n",
       "      <th>count</th>\n",
       "      <td>365.000000</td>\n",
       "      <td>365.000000</td>\n",
       "      <td>365.000000</td>\n",
       "      <td>178.000000</td>\n",
       "    </tr>\n",
       "    <tr>\n",
       "      <th>mean</th>\n",
       "      <td>2032.200000</td>\n",
       "      <td>1060.252055</td>\n",
       "      <td>2093.169863</td>\n",
       "      <td>2576.359551</td>\n",
       "    </tr>\n",
       "    <tr>\n",
       "      <th>std</th>\n",
       "      <td>1878.879799</td>\n",
       "      <td>1079.533086</td>\n",
       "      <td>1854.368523</td>\n",
       "      <td>2484.004743</td>\n",
       "    </tr>\n",
       "    <tr>\n",
       "      <th>min</th>\n",
       "      <td>0.000000</td>\n",
       "      <td>0.000000</td>\n",
       "      <td>0.000000</td>\n",
       "      <td>0.000000</td>\n",
       "    </tr>\n",
       "    <tr>\n",
       "      <th>25%</th>\n",
       "      <td>194.000000</td>\n",
       "      <td>90.000000</td>\n",
       "      <td>228.000000</td>\n",
       "      <td>0.000000</td>\n",
       "    </tr>\n",
       "    <tr>\n",
       "      <th>50%</th>\n",
       "      <td>1726.000000</td>\n",
       "      <td>678.000000</td>\n",
       "      <td>1686.000000</td>\n",
       "      <td>1443.500000</td>\n",
       "    </tr>\n",
       "    <tr>\n",
       "      <th>75%</th>\n",
       "      <td>3540.000000</td>\n",
       "      <td>1882.000000</td>\n",
       "      <td>3520.000000</td>\n",
       "      <td>4638.000000</td>\n",
       "    </tr>\n",
       "    <tr>\n",
       "      <th>max</th>\n",
       "      <td>6626.000000</td>\n",
       "      <td>4242.000000</td>\n",
       "      <td>6587.000000</td>\n",
       "      <td>7575.000000</td>\n",
       "    </tr>\n",
       "  </tbody>\n",
       "</table>\n",
       "</div>"
      ],
      "text/plain": [
       "            Berri1  Maisonneuve_1  Maisonneuve_2      Brébeuf\n",
       "count   365.000000     365.000000     365.000000   178.000000\n",
       "mean   2032.200000    1060.252055    2093.169863  2576.359551\n",
       "std    1878.879799    1079.533086    1854.368523  2484.004743\n",
       "min       0.000000       0.000000       0.000000     0.000000\n",
       "25%     194.000000      90.000000     228.000000     0.000000\n",
       "50%    1726.000000     678.000000    1686.000000  1443.500000\n",
       "75%    3540.000000    1882.000000    3520.000000  4638.000000\n",
       "max    6626.000000    4242.000000    6587.000000  7575.000000"
      ]
     },
     "execution_count": 124,
     "metadata": {},
     "output_type": "execute_result"
    }
   ],
   "source": [
    "df.describe()"
   ]
  },
  {
   "cell_type": "code",
   "execution_count": 125,
   "metadata": {},
   "outputs": [
    {
     "data": {
      "text/plain": [
       "0     29\n",
       "1     19\n",
       "2     24\n",
       "3     24\n",
       "4    120\n",
       "Name: Berri1, dtype: int64"
      ]
     },
     "execution_count": 125,
     "metadata": {},
     "output_type": "execute_result"
    }
   ],
   "source": [
    "df['Berri1'].head()"
   ]
  },
  {
   "cell_type": "code",
   "execution_count": 127,
   "metadata": {},
   "outputs": [
    {
     "data": {
      "text/plain": [
       "array(['00:00'], dtype=object)"
      ]
     },
     "execution_count": 127,
     "metadata": {},
     "output_type": "execute_result"
    }
   ],
   "source": [
    "df['Unnamed: 1'].unique()   "
   ]
  },
  {
   "cell_type": "code",
   "execution_count": 128,
   "metadata": {},
   "outputs": [
    {
     "data": {
      "text/plain": [
       "RangeIndex(start=0, stop=365, step=1)"
      ]
     },
     "execution_count": 128,
     "metadata": {},
     "output_type": "execute_result"
    }
   ],
   "source": [
    "df.index"
   ]
  },
  {
   "cell_type": "code",
   "execution_count": 129,
   "metadata": {},
   "outputs": [
    {
     "data": {
      "text/html": [
       "<div>\n",
       "<style scoped>\n",
       "    .dataframe tbody tr th:only-of-type {\n",
       "        vertical-align: middle;\n",
       "    }\n",
       "\n",
       "    .dataframe tbody tr th {\n",
       "        vertical-align: top;\n",
       "    }\n",
       "\n",
       "    .dataframe thead th {\n",
       "        text-align: right;\n",
       "    }\n",
       "</style>\n",
       "<table border=\"1\" class=\"dataframe\">\n",
       "  <thead>\n",
       "    <tr style=\"text-align: right;\">\n",
       "      <th></th>\n",
       "      <th>Berri1</th>\n",
       "      <th>Maisonneuve_1</th>\n",
       "    </tr>\n",
       "  </thead>\n",
       "  <tbody>\n",
       "    <tr>\n",
       "      <th>0</th>\n",
       "      <td>29</td>\n",
       "      <td>20</td>\n",
       "    </tr>\n",
       "    <tr>\n",
       "      <th>1</th>\n",
       "      <td>19</td>\n",
       "      <td>3</td>\n",
       "    </tr>\n",
       "    <tr>\n",
       "      <th>2</th>\n",
       "      <td>24</td>\n",
       "      <td>12</td>\n",
       "    </tr>\n",
       "    <tr>\n",
       "      <th>3</th>\n",
       "      <td>24</td>\n",
       "      <td>8</td>\n",
       "    </tr>\n",
       "    <tr>\n",
       "      <th>4</th>\n",
       "      <td>120</td>\n",
       "      <td>111</td>\n",
       "    </tr>\n",
       "  </tbody>\n",
       "</table>\n",
       "</div>"
      ],
      "text/plain": [
       "   Berri1  Maisonneuve_1\n",
       "0      29             20\n",
       "1      19              3\n",
       "2      24             12\n",
       "3      24              8\n",
       "4     120            111"
      ]
     },
     "execution_count": 129,
     "metadata": {},
     "output_type": "execute_result"
    }
   ],
   "source": [
    "df[['Berri1', 'Maisonneuve_1']].head()"
   ]
  },
  {
   "cell_type": "code",
   "execution_count": 131,
   "metadata": {},
   "outputs": [
    {
     "data": {
      "text/html": [
       "<div>\n",
       "<style scoped>\n",
       "    .dataframe tbody tr th:only-of-type {\n",
       "        vertical-align: middle;\n",
       "    }\n",
       "\n",
       "    .dataframe tbody tr th {\n",
       "        vertical-align: top;\n",
       "    }\n",
       "\n",
       "    .dataframe thead th {\n",
       "        text-align: right;\n",
       "    }\n",
       "</style>\n",
       "<table border=\"1\" class=\"dataframe\">\n",
       "  <thead>\n",
       "    <tr style=\"text-align: right;\">\n",
       "      <th></th>\n",
       "      <th>Berri1</th>\n",
       "      <th>Maisonneuve_1</th>\n",
       "      <th>Maisonneuve_2</th>\n",
       "      <th>Brébeuf</th>\n",
       "    </tr>\n",
       "    <tr>\n",
       "      <th>Date</th>\n",
       "      <th></th>\n",
       "      <th></th>\n",
       "      <th></th>\n",
       "      <th></th>\n",
       "    </tr>\n",
       "  </thead>\n",
       "  <tbody>\n",
       "    <tr>\n",
       "      <th>2009-01-01</th>\n",
       "      <td>29</td>\n",
       "      <td>20</td>\n",
       "      <td>35</td>\n",
       "      <td>NaN</td>\n",
       "    </tr>\n",
       "    <tr>\n",
       "      <th>2009-02-01</th>\n",
       "      <td>19</td>\n",
       "      <td>3</td>\n",
       "      <td>22</td>\n",
       "      <td>NaN</td>\n",
       "    </tr>\n",
       "    <tr>\n",
       "      <th>2009-03-01</th>\n",
       "      <td>24</td>\n",
       "      <td>12</td>\n",
       "      <td>22</td>\n",
       "      <td>NaN</td>\n",
       "    </tr>\n",
       "    <tr>\n",
       "      <th>2009-04-01</th>\n",
       "      <td>24</td>\n",
       "      <td>8</td>\n",
       "      <td>15</td>\n",
       "      <td>NaN</td>\n",
       "    </tr>\n",
       "    <tr>\n",
       "      <th>2009-05-01</th>\n",
       "      <td>120</td>\n",
       "      <td>111</td>\n",
       "      <td>141</td>\n",
       "      <td>NaN</td>\n",
       "    </tr>\n",
       "  </tbody>\n",
       "</table>\n",
       "</div>"
      ],
      "text/plain": [
       "            Berri1  Maisonneuve_1  Maisonneuve_2  Brébeuf\n",
       "Date                                                     \n",
       "2009-01-01      29             20             35      NaN\n",
       "2009-02-01      19              3             22      NaN\n",
       "2009-03-01      24             12             22      NaN\n",
       "2009-04-01      24              8             15      NaN\n",
       "2009-05-01     120            111            141      NaN"
      ]
     },
     "execution_count": 131,
     "metadata": {},
     "output_type": "execute_result"
    }
   ],
   "source": [
    "df.index = pd.to_datetime(df.Date)\n",
    "del df[\"Date\"]\n",
    "del df[\"Unnamed: 1\"]\n",
    "df.head()"
   ]
  },
  {
   "cell_type": "code",
   "execution_count": 133,
   "metadata": {},
   "outputs": [
    {
     "data": {
      "text/html": [
       "<div>\n",
       "<style scoped>\n",
       "    .dataframe tbody tr th:only-of-type {\n",
       "        vertical-align: middle;\n",
       "    }\n",
       "\n",
       "    .dataframe tbody tr th {\n",
       "        vertical-align: top;\n",
       "    }\n",
       "\n",
       "    .dataframe thead th {\n",
       "        text-align: right;\n",
       "    }\n",
       "</style>\n",
       "<table border=\"1\" class=\"dataframe\">\n",
       "  <thead>\n",
       "    <tr style=\"text-align: right;\">\n",
       "      <th></th>\n",
       "      <th>Berri</th>\n",
       "      <th>Maisonneuve1</th>\n",
       "      <th>Maisonneuve2</th>\n",
       "      <th>Brebeuf</th>\n",
       "    </tr>\n",
       "    <tr>\n",
       "      <th>Date</th>\n",
       "      <th></th>\n",
       "      <th></th>\n",
       "      <th></th>\n",
       "      <th></th>\n",
       "    </tr>\n",
       "  </thead>\n",
       "  <tbody>\n",
       "    <tr>\n",
       "      <th>2009-01-01</th>\n",
       "      <td>29</td>\n",
       "      <td>20</td>\n",
       "      <td>35</td>\n",
       "      <td>NaN</td>\n",
       "    </tr>\n",
       "    <tr>\n",
       "      <th>2009-02-01</th>\n",
       "      <td>19</td>\n",
       "      <td>3</td>\n",
       "      <td>22</td>\n",
       "      <td>NaN</td>\n",
       "    </tr>\n",
       "    <tr>\n",
       "      <th>2009-03-01</th>\n",
       "      <td>24</td>\n",
       "      <td>12</td>\n",
       "      <td>22</td>\n",
       "      <td>NaN</td>\n",
       "    </tr>\n",
       "    <tr>\n",
       "      <th>2009-04-01</th>\n",
       "      <td>24</td>\n",
       "      <td>8</td>\n",
       "      <td>15</td>\n",
       "      <td>NaN</td>\n",
       "    </tr>\n",
       "    <tr>\n",
       "      <th>2009-05-01</th>\n",
       "      <td>120</td>\n",
       "      <td>111</td>\n",
       "      <td>141</td>\n",
       "      <td>NaN</td>\n",
       "    </tr>\n",
       "  </tbody>\n",
       "</table>\n",
       "</div>"
      ],
      "text/plain": [
       "            Berri  Maisonneuve1  Maisonneuve2  Brebeuf\n",
       "Date                                                  \n",
       "2009-01-01     29            20            35      NaN\n",
       "2009-02-01     19             3            22      NaN\n",
       "2009-03-01     24            12            22      NaN\n",
       "2009-04-01     24             8            15      NaN\n",
       "2009-05-01    120           111           141      NaN"
      ]
     },
     "execution_count": 133,
     "metadata": {},
     "output_type": "execute_result"
    }
   ],
   "source": [
    "df.columns=[\"Berri\", \"Maisonneuve1\", \"Maisonneuve2\", \"Brebeuf\"]\n",
    "df.head()"
   ]
  },
  {
   "cell_type": "code",
   "execution_count": 137,
   "metadata": {},
   "outputs": [
    {
     "name": "stdout",
     "output_type": "stream",
     "text": [
      "Berri 0\n",
      "Maisonneuve1 0\n",
      "Maisonneuve2 0\n",
      "Brebeuf 187\n"
     ]
    }
   ],
   "source": [
    "for col in df.columns:\n",
    "    print(col, np.sum(pd.isnull(df[col])))"
   ]
  },
  {
   "cell_type": "code",
   "execution_count": 139,
   "metadata": {},
   "outputs": [
    {
     "data": {
      "text/html": [
       "<div>\n",
       "<style scoped>\n",
       "    .dataframe tbody tr th:only-of-type {\n",
       "        vertical-align: middle;\n",
       "    }\n",
       "\n",
       "    .dataframe tbody tr th {\n",
       "        vertical-align: top;\n",
       "    }\n",
       "\n",
       "    .dataframe thead th {\n",
       "        text-align: right;\n",
       "    }\n",
       "</style>\n",
       "<table border=\"1\" class=\"dataframe\">\n",
       "  <thead>\n",
       "    <tr style=\"text-align: right;\">\n",
       "      <th></th>\n",
       "      <th>Berri</th>\n",
       "      <th>Maisonneuve1</th>\n",
       "      <th>Maisonneuve2</th>\n",
       "      <th>Brebeuf</th>\n",
       "    </tr>\n",
       "    <tr>\n",
       "      <th>Date</th>\n",
       "      <th></th>\n",
       "      <th></th>\n",
       "      <th></th>\n",
       "      <th></th>\n",
       "    </tr>\n",
       "  </thead>\n",
       "  <tbody>\n",
       "    <tr>\n",
       "      <th>2009-01-01</th>\n",
       "      <td>29</td>\n",
       "      <td>20</td>\n",
       "      <td>35</td>\n",
       "      <td>2576.359551</td>\n",
       "    </tr>\n",
       "    <tr>\n",
       "      <th>2009-02-01</th>\n",
       "      <td>19</td>\n",
       "      <td>3</td>\n",
       "      <td>22</td>\n",
       "      <td>2576.359551</td>\n",
       "    </tr>\n",
       "    <tr>\n",
       "      <th>2009-03-01</th>\n",
       "      <td>24</td>\n",
       "      <td>12</td>\n",
       "      <td>22</td>\n",
       "      <td>2576.359551</td>\n",
       "    </tr>\n",
       "    <tr>\n",
       "      <th>2009-04-01</th>\n",
       "      <td>24</td>\n",
       "      <td>8</td>\n",
       "      <td>15</td>\n",
       "      <td>2576.359551</td>\n",
       "    </tr>\n",
       "    <tr>\n",
       "      <th>2009-05-01</th>\n",
       "      <td>120</td>\n",
       "      <td>111</td>\n",
       "      <td>141</td>\n",
       "      <td>2576.359551</td>\n",
       "    </tr>\n",
       "  </tbody>\n",
       "</table>\n",
       "</div>"
      ],
      "text/plain": [
       "            Berri  Maisonneuve1  Maisonneuve2      Brebeuf\n",
       "Date                                                      \n",
       "2009-01-01     29            20            35  2576.359551\n",
       "2009-02-01     19             3            22  2576.359551\n",
       "2009-03-01     24            12            22  2576.359551\n",
       "2009-04-01     24             8            15  2576.359551\n",
       "2009-05-01    120           111           141  2576.359551"
      ]
     },
     "execution_count": 139,
     "metadata": {},
     "output_type": "execute_result"
    }
   ],
   "source": [
    "df.Brebeuf.fillna(df.Brebeuf.mean(), inplace=True)\n",
    "df.head()"
   ]
  },
  {
   "cell_type": "code",
   "execution_count": 140,
   "metadata": {},
   "outputs": [
    {
     "data": {
      "text/html": [
       "<div>\n",
       "<style scoped>\n",
       "    .dataframe tbody tr th:only-of-type {\n",
       "        vertical-align: middle;\n",
       "    }\n",
       "\n",
       "    .dataframe tbody tr th {\n",
       "        vertical-align: top;\n",
       "    }\n",
       "\n",
       "    .dataframe thead th {\n",
       "        text-align: right;\n",
       "    }\n",
       "</style>\n",
       "<table border=\"1\" class=\"dataframe\">\n",
       "  <thead>\n",
       "    <tr style=\"text-align: right;\">\n",
       "      <th></th>\n",
       "      <th>Berri</th>\n",
       "      <th>Maisonneuve1</th>\n",
       "      <th>Maisonneuve2</th>\n",
       "      <th>Brebeuf</th>\n",
       "    </tr>\n",
       "    <tr>\n",
       "      <th>Date</th>\n",
       "      <th></th>\n",
       "      <th></th>\n",
       "      <th></th>\n",
       "      <th></th>\n",
       "    </tr>\n",
       "  </thead>\n",
       "  <tbody>\n",
       "    <tr>\n",
       "      <th>2009-01-01</th>\n",
       "      <td>29</td>\n",
       "      <td>20</td>\n",
       "      <td>35</td>\n",
       "      <td>2576.359551</td>\n",
       "    </tr>\n",
       "    <tr>\n",
       "      <th>2009-01-02</th>\n",
       "      <td>14</td>\n",
       "      <td>2</td>\n",
       "      <td>2</td>\n",
       "      <td>2576.359551</td>\n",
       "    </tr>\n",
       "    <tr>\n",
       "      <th>2009-01-03</th>\n",
       "      <td>67</td>\n",
       "      <td>30</td>\n",
       "      <td>80</td>\n",
       "      <td>2576.359551</td>\n",
       "    </tr>\n",
       "    <tr>\n",
       "      <th>2009-01-04</th>\n",
       "      <td>0</td>\n",
       "      <td>0</td>\n",
       "      <td>0</td>\n",
       "      <td>2576.359551</td>\n",
       "    </tr>\n",
       "    <tr>\n",
       "      <th>2009-01-05</th>\n",
       "      <td>1925</td>\n",
       "      <td>1256</td>\n",
       "      <td>1501</td>\n",
       "      <td>2576.359551</td>\n",
       "    </tr>\n",
       "  </tbody>\n",
       "</table>\n",
       "</div>"
      ],
      "text/plain": [
       "            Berri  Maisonneuve1  Maisonneuve2      Brebeuf\n",
       "Date                                                      \n",
       "2009-01-01     29            20            35  2576.359551\n",
       "2009-01-02     14             2             2  2576.359551\n",
       "2009-01-03     67            30            80  2576.359551\n",
       "2009-01-04      0             0             0  2576.359551\n",
       "2009-01-05   1925          1256          1501  2576.359551"
      ]
     },
     "execution_count": 140,
     "metadata": {},
     "output_type": "execute_result"
    }
   ],
   "source": [
    "df.sort_index(inplace=True)\n",
    "df.head()"
   ]
  },
  {
   "cell_type": "code",
   "execution_count": 141,
   "metadata": {},
   "outputs": [
    {
     "data": {
      "text/html": [
       "<div>\n",
       "<style scoped>\n",
       "    .dataframe tbody tr th:only-of-type {\n",
       "        vertical-align: middle;\n",
       "    }\n",
       "\n",
       "    .dataframe tbody tr th {\n",
       "        vertical-align: top;\n",
       "    }\n",
       "\n",
       "    .dataframe thead th {\n",
       "        text-align: right;\n",
       "    }\n",
       "</style>\n",
       "<table border=\"1\" class=\"dataframe\">\n",
       "  <thead>\n",
       "    <tr style=\"text-align: right;\">\n",
       "      <th></th>\n",
       "      <th>Berri</th>\n",
       "      <th>Maisonneuve1</th>\n",
       "      <th>Maisonneuve2</th>\n",
       "      <th>Brebeuf</th>\n",
       "    </tr>\n",
       "    <tr>\n",
       "      <th>Date</th>\n",
       "      <th></th>\n",
       "      <th></th>\n",
       "      <th></th>\n",
       "      <th></th>\n",
       "    </tr>\n",
       "  </thead>\n",
       "  <tbody>\n",
       "    <tr>\n",
       "      <th>2009-05-06</th>\n",
       "      <td>6028</td>\n",
       "      <td>4120</td>\n",
       "      <td>4223</td>\n",
       "      <td>2576.359551</td>\n",
       "    </tr>\n",
       "    <tr>\n",
       "      <th>2009-06-17</th>\n",
       "      <td>6320</td>\n",
       "      <td>3388</td>\n",
       "      <td>6047</td>\n",
       "      <td>2576.359551</td>\n",
       "    </tr>\n",
       "    <tr>\n",
       "      <th>2009-07-15</th>\n",
       "      <td>6100</td>\n",
       "      <td>3767</td>\n",
       "      <td>5536</td>\n",
       "      <td>6939.000000</td>\n",
       "    </tr>\n",
       "    <tr>\n",
       "      <th>2009-09-07</th>\n",
       "      <td>6626</td>\n",
       "      <td>4227</td>\n",
       "      <td>5751</td>\n",
       "      <td>7575.000000</td>\n",
       "    </tr>\n",
       "    <tr>\n",
       "      <th>2009-10-07</th>\n",
       "      <td>6274</td>\n",
       "      <td>4242</td>\n",
       "      <td>5435</td>\n",
       "      <td>7268.000000</td>\n",
       "    </tr>\n",
       "  </tbody>\n",
       "</table>\n",
       "</div>"
      ],
      "text/plain": [
       "            Berri  Maisonneuve1  Maisonneuve2      Brebeuf\n",
       "Date                                                      \n",
       "2009-05-06   6028          4120          4223  2576.359551\n",
       "2009-06-17   6320          3388          6047  2576.359551\n",
       "2009-07-15   6100          3767          5536  6939.000000\n",
       "2009-09-07   6626          4227          5751  7575.000000\n",
       "2009-10-07   6274          4242          5435  7268.000000"
      ]
     },
     "execution_count": 141,
     "metadata": {},
     "output_type": "execute_result"
    }
   ],
   "source": [
    "df[df.Berri>6000]"
   ]
  },
  {
   "cell_type": "code",
   "execution_count": 142,
   "metadata": {},
   "outputs": [
    {
     "data": {
      "text/html": [
       "<div>\n",
       "<style scoped>\n",
       "    .dataframe tbody tr th:only-of-type {\n",
       "        vertical-align: middle;\n",
       "    }\n",
       "\n",
       "    .dataframe tbody tr th {\n",
       "        vertical-align: top;\n",
       "    }\n",
       "\n",
       "    .dataframe thead th {\n",
       "        text-align: right;\n",
       "    }\n",
       "</style>\n",
       "<table border=\"1\" class=\"dataframe\">\n",
       "  <thead>\n",
       "    <tr style=\"text-align: right;\">\n",
       "      <th></th>\n",
       "      <th>Berri</th>\n",
       "      <th>Maisonneuve1</th>\n",
       "      <th>Maisonneuve2</th>\n",
       "      <th>Brebeuf</th>\n",
       "    </tr>\n",
       "    <tr>\n",
       "      <th>Date</th>\n",
       "      <th></th>\n",
       "      <th></th>\n",
       "      <th></th>\n",
       "      <th></th>\n",
       "    </tr>\n",
       "  </thead>\n",
       "  <tbody>\n",
       "    <tr>\n",
       "      <th>2009-05-06</th>\n",
       "      <td>6028</td>\n",
       "      <td>4120</td>\n",
       "      <td>4223</td>\n",
       "      <td>2576.359551</td>\n",
       "    </tr>\n",
       "    <tr>\n",
       "      <th>2009-06-17</th>\n",
       "      <td>6320</td>\n",
       "      <td>3388</td>\n",
       "      <td>6047</td>\n",
       "      <td>2576.359551</td>\n",
       "    </tr>\n",
       "    <tr>\n",
       "      <th>2009-07-15</th>\n",
       "      <td>6100</td>\n",
       "      <td>3767</td>\n",
       "      <td>5536</td>\n",
       "      <td>6939.000000</td>\n",
       "    </tr>\n",
       "  </tbody>\n",
       "</table>\n",
       "</div>"
      ],
      "text/plain": [
       "            Berri  Maisonneuve1  Maisonneuve2      Brebeuf\n",
       "Date                                                      \n",
       "2009-05-06   6028          4120          4223  2576.359551\n",
       "2009-06-17   6320          3388          6047  2576.359551\n",
       "2009-07-15   6100          3767          5536  6939.000000"
      ]
     },
     "execution_count": 142,
     "metadata": {},
     "output_type": "execute_result"
    }
   ],
   "source": [
    "df[(df.Berri>6000) & (df.Brebeuf<7000)]"
   ]
  },
  {
   "cell_type": "code",
   "execution_count": 145,
   "metadata": {},
   "outputs": [
    {
     "data": {
      "text/html": [
       "<div>\n",
       "<style scoped>\n",
       "    .dataframe tbody tr th:only-of-type {\n",
       "        vertical-align: middle;\n",
       "    }\n",
       "\n",
       "    .dataframe tbody tr th {\n",
       "        vertical-align: top;\n",
       "    }\n",
       "\n",
       "    .dataframe thead th {\n",
       "        text-align: right;\n",
       "    }\n",
       "</style>\n",
       "<table border=\"1\" class=\"dataframe\">\n",
       "  <thead>\n",
       "    <tr style=\"text-align: right;\">\n",
       "      <th></th>\n",
       "      <th>Berri</th>\n",
       "      <th>Maisonneuve1</th>\n",
       "      <th>Maisonneuve2</th>\n",
       "      <th>Brebeuf</th>\n",
       "    </tr>\n",
       "    <tr>\n",
       "      <th>Date</th>\n",
       "      <th></th>\n",
       "      <th></th>\n",
       "      <th></th>\n",
       "      <th></th>\n",
       "    </tr>\n",
       "  </thead>\n",
       "  <tbody>\n",
       "    <tr>\n",
       "      <th>2009-04-11</th>\n",
       "      <td>1974</td>\n",
       "      <td>1113</td>\n",
       "      <td>2693</td>\n",
       "      <td>1046.000000</td>\n",
       "    </tr>\n",
       "    <tr>\n",
       "      <th>2009-04-12</th>\n",
       "      <td>1108</td>\n",
       "      <td>595</td>\n",
       "      <td>1472</td>\n",
       "      <td>0.000000</td>\n",
       "    </tr>\n",
       "    <tr>\n",
       "      <th>2009-04-13</th>\n",
       "      <td>0</td>\n",
       "      <td>0</td>\n",
       "      <td>0</td>\n",
       "      <td>2576.359551</td>\n",
       "    </tr>\n",
       "    <tr>\n",
       "      <th>2009-04-14</th>\n",
       "      <td>0</td>\n",
       "      <td>0</td>\n",
       "      <td>0</td>\n",
       "      <td>2576.359551</td>\n",
       "    </tr>\n",
       "    <tr>\n",
       "      <th>2009-04-15</th>\n",
       "      <td>0</td>\n",
       "      <td>0</td>\n",
       "      <td>0</td>\n",
       "      <td>2576.359551</td>\n",
       "    </tr>\n",
       "  </tbody>\n",
       "</table>\n",
       "</div>"
      ],
      "text/plain": [
       "            Berri  Maisonneuve1  Maisonneuve2      Brebeuf\n",
       "Date                                                      \n",
       "2009-04-11   1974          1113          2693  1046.000000\n",
       "2009-04-12   1108           595          1472     0.000000\n",
       "2009-04-13      0             0             0  2576.359551\n",
       "2009-04-14      0             0             0  2576.359551\n",
       "2009-04-15      0             0             0  2576.359551"
      ]
     },
     "execution_count": 145,
     "metadata": {},
     "output_type": "execute_result"
    }
   ],
   "source": [
    "df.iloc[100:105]"
   ]
  },
  {
   "cell_type": "code",
   "execution_count": 148,
   "metadata": {},
   "outputs": [
    {
     "data": {
      "text/html": [
       "<div>\n",
       "<style scoped>\n",
       "    .dataframe tbody tr th:only-of-type {\n",
       "        vertical-align: middle;\n",
       "    }\n",
       "\n",
       "    .dataframe tbody tr th {\n",
       "        vertical-align: top;\n",
       "    }\n",
       "\n",
       "    .dataframe thead th {\n",
       "        text-align: right;\n",
       "    }\n",
       "</style>\n",
       "<table border=\"1\" class=\"dataframe\">\n",
       "  <thead>\n",
       "    <tr style=\"text-align: right;\">\n",
       "      <th></th>\n",
       "      <th>Berri</th>\n",
       "      <th>Maisonneuve1</th>\n",
       "      <th>Maisonneuve2</th>\n",
       "      <th>Brebeuf</th>\n",
       "    </tr>\n",
       "    <tr>\n",
       "      <th>Date</th>\n",
       "      <th></th>\n",
       "      <th></th>\n",
       "      <th></th>\n",
       "      <th></th>\n",
       "    </tr>\n",
       "  </thead>\n",
       "  <tbody>\n",
       "    <tr>\n",
       "      <th>2009-10-01</th>\n",
       "      <td>81</td>\n",
       "      <td>45</td>\n",
       "      <td>79</td>\n",
       "      <td>2576.359551</td>\n",
       "    </tr>\n",
       "    <tr>\n",
       "      <th>2009-10-02</th>\n",
       "      <td>228</td>\n",
       "      <td>101</td>\n",
       "      <td>260</td>\n",
       "      <td>2576.359551</td>\n",
       "    </tr>\n",
       "    <tr>\n",
       "      <th>2009-10-03</th>\n",
       "      <td>366</td>\n",
       "      <td>203</td>\n",
       "      <td>354</td>\n",
       "      <td>2576.359551</td>\n",
       "    </tr>\n",
       "    <tr>\n",
       "      <th>2009-10-04</th>\n",
       "      <td>0</td>\n",
       "      <td>0</td>\n",
       "      <td>0</td>\n",
       "      <td>2576.359551</td>\n",
       "    </tr>\n",
       "    <tr>\n",
       "      <th>2009-10-05</th>\n",
       "      <td>728</td>\n",
       "      <td>362</td>\n",
       "      <td>523</td>\n",
       "      <td>2576.359551</td>\n",
       "    </tr>\n",
       "  </tbody>\n",
       "</table>\n",
       "</div>"
      ],
      "text/plain": [
       "            Berri  Maisonneuve1  Maisonneuve2      Brebeuf\n",
       "Date                                                      \n",
       "2009-10-01     81            45            79  2576.359551\n",
       "2009-10-02    228           101           260  2576.359551\n",
       "2009-10-03    366           203           354  2576.359551\n",
       "2009-10-04      0             0             0  2576.359551\n",
       "2009-10-05    728           362           523  2576.359551"
      ]
     },
     "execution_count": 148,
     "metadata": {},
     "output_type": "execute_result"
    }
   ],
   "source": [
    "df.loc['2009-10-01':'2009-10-05']"
   ]
  },
  {
   "cell_type": "code",
   "execution_count": 150,
   "metadata": {},
   "outputs": [
    {
     "data": {
      "text/html": [
       "<div>\n",
       "<style scoped>\n",
       "    .dataframe tbody tr th:only-of-type {\n",
       "        vertical-align: middle;\n",
       "    }\n",
       "\n",
       "    .dataframe tbody tr th {\n",
       "        vertical-align: top;\n",
       "    }\n",
       "\n",
       "    .dataframe thead th {\n",
       "        text-align: right;\n",
       "    }\n",
       "</style>\n",
       "<table border=\"1\" class=\"dataframe\">\n",
       "  <thead>\n",
       "    <tr style=\"text-align: right;\">\n",
       "      <th></th>\n",
       "      <th>Berri</th>\n",
       "      <th>Maisonneuve1</th>\n",
       "      <th>Maisonneuve2</th>\n",
       "      <th>Brebeuf</th>\n",
       "    </tr>\n",
       "    <tr>\n",
       "      <th>Date</th>\n",
       "      <th></th>\n",
       "      <th></th>\n",
       "      <th></th>\n",
       "      <th></th>\n",
       "    </tr>\n",
       "  </thead>\n",
       "  <tbody>\n",
       "    <tr>\n",
       "      <th>2009-10-04</th>\n",
       "      <td>0</td>\n",
       "      <td>0</td>\n",
       "      <td>0</td>\n",
       "      <td>2576.359551</td>\n",
       "    </tr>\n",
       "    <tr>\n",
       "      <th>2009-10-01</th>\n",
       "      <td>81</td>\n",
       "      <td>45</td>\n",
       "      <td>79</td>\n",
       "      <td>2576.359551</td>\n",
       "    </tr>\n",
       "    <tr>\n",
       "      <th>2009-10-02</th>\n",
       "      <td>228</td>\n",
       "      <td>101</td>\n",
       "      <td>260</td>\n",
       "      <td>2576.359551</td>\n",
       "    </tr>\n",
       "    <tr>\n",
       "      <th>2009-10-03</th>\n",
       "      <td>366</td>\n",
       "      <td>203</td>\n",
       "      <td>354</td>\n",
       "      <td>2576.359551</td>\n",
       "    </tr>\n",
       "    <tr>\n",
       "      <th>2009-10-05</th>\n",
       "      <td>728</td>\n",
       "      <td>362</td>\n",
       "      <td>523</td>\n",
       "      <td>2576.359551</td>\n",
       "    </tr>\n",
       "    <tr>\n",
       "      <th>2009-10-10</th>\n",
       "      <td>1407</td>\n",
       "      <td>725</td>\n",
       "      <td>1443</td>\n",
       "      <td>1003.000000</td>\n",
       "    </tr>\n",
       "    <tr>\n",
       "      <th>2009-10-08</th>\n",
       "      <td>2999</td>\n",
       "      <td>1545</td>\n",
       "      <td>3185</td>\n",
       "      <td>4187.000000</td>\n",
       "    </tr>\n",
       "    <tr>\n",
       "      <th>2009-10-06</th>\n",
       "      <td>3460</td>\n",
       "      <td>2354</td>\n",
       "      <td>3978</td>\n",
       "      <td>2576.359551</td>\n",
       "    </tr>\n",
       "    <tr>\n",
       "      <th>2009-10-09</th>\n",
       "      <td>5496</td>\n",
       "      <td>2921</td>\n",
       "      <td>6587</td>\n",
       "      <td>6520.000000</td>\n",
       "    </tr>\n",
       "    <tr>\n",
       "      <th>2009-10-07</th>\n",
       "      <td>6274</td>\n",
       "      <td>4242</td>\n",
       "      <td>5435</td>\n",
       "      <td>7268.000000</td>\n",
       "    </tr>\n",
       "  </tbody>\n",
       "</table>\n",
       "</div>"
      ],
      "text/plain": [
       "            Berri  Maisonneuve1  Maisonneuve2      Brebeuf\n",
       "Date                                                      \n",
       "2009-10-04      0             0             0  2576.359551\n",
       "2009-10-01     81            45            79  2576.359551\n",
       "2009-10-02    228           101           260  2576.359551\n",
       "2009-10-03    366           203           354  2576.359551\n",
       "2009-10-05    728           362           523  2576.359551\n",
       "2009-10-10   1407           725          1443  1003.000000\n",
       "2009-10-08   2999          1545          3185  4187.000000\n",
       "2009-10-06   3460          2354          3978  2576.359551\n",
       "2009-10-09   5496          2921          6587  6520.000000\n",
       "2009-10-07   6274          4242          5435  7268.000000"
      ]
     },
     "execution_count": 150,
     "metadata": {},
     "output_type": "execute_result"
    }
   ],
   "source": [
    "df.sort_values(by='Berri').loc['2009-10-01':'2009-10-10']"
   ]
  },
  {
   "cell_type": "code",
   "execution_count": 152,
   "metadata": {},
   "outputs": [
    {
     "data": {
      "text/html": [
       "<div>\n",
       "<style scoped>\n",
       "    .dataframe tbody tr th:only-of-type {\n",
       "        vertical-align: middle;\n",
       "    }\n",
       "\n",
       "    .dataframe tbody tr th {\n",
       "        vertical-align: top;\n",
       "    }\n",
       "\n",
       "    .dataframe thead th {\n",
       "        text-align: right;\n",
       "    }\n",
       "</style>\n",
       "<table border=\"1\" class=\"dataframe\">\n",
       "  <thead>\n",
       "    <tr style=\"text-align: right;\">\n",
       "      <th></th>\n",
       "      <th>Berri</th>\n",
       "      <th>Maisonneuve1</th>\n",
       "      <th>Maisonneuve2</th>\n",
       "      <th>Brebeuf</th>\n",
       "    </tr>\n",
       "    <tr>\n",
       "      <th>Date</th>\n",
       "      <th></th>\n",
       "      <th></th>\n",
       "      <th></th>\n",
       "      <th></th>\n",
       "    </tr>\n",
       "  </thead>\n",
       "  <tbody>\n",
       "    <tr>\n",
       "      <th>2009-01-01</th>\n",
       "      <td>NaN</td>\n",
       "      <td>NaN</td>\n",
       "      <td>NaN</td>\n",
       "      <td>NaN</td>\n",
       "    </tr>\n",
       "    <tr>\n",
       "      <th>2009-01-02</th>\n",
       "      <td>NaN</td>\n",
       "      <td>NaN</td>\n",
       "      <td>NaN</td>\n",
       "      <td>NaN</td>\n",
       "    </tr>\n",
       "    <tr>\n",
       "      <th>2009-01-03</th>\n",
       "      <td>36.666667</td>\n",
       "      <td>17.333333</td>\n",
       "      <td>39.000000</td>\n",
       "      <td>2576.359551</td>\n",
       "    </tr>\n",
       "    <tr>\n",
       "      <th>2009-01-04</th>\n",
       "      <td>27.000000</td>\n",
       "      <td>10.666667</td>\n",
       "      <td>27.333333</td>\n",
       "      <td>2576.359551</td>\n",
       "    </tr>\n",
       "    <tr>\n",
       "      <th>2009-01-05</th>\n",
       "      <td>664.000000</td>\n",
       "      <td>428.666667</td>\n",
       "      <td>527.000000</td>\n",
       "      <td>2576.359551</td>\n",
       "    </tr>\n",
       "    <tr>\n",
       "      <th>2009-01-06</th>\n",
       "      <td>1733.000000</td>\n",
       "      <td>1116.333333</td>\n",
       "      <td>1409.000000</td>\n",
       "      <td>2576.359551</td>\n",
       "    </tr>\n",
       "    <tr>\n",
       "      <th>2009-01-07</th>\n",
       "      <td>3223.333333</td>\n",
       "      <td>1862.666667</td>\n",
       "      <td>2426.000000</td>\n",
       "      <td>2576.359551</td>\n",
       "    </tr>\n",
       "    <tr>\n",
       "      <th>2009-01-08</th>\n",
       "      <td>2602.666667</td>\n",
       "      <td>1795.000000</td>\n",
       "      <td>3042.666667</td>\n",
       "      <td>3673.906367</td>\n",
       "    </tr>\n",
       "    <tr>\n",
       "      <th>2009-01-09</th>\n",
       "      <td>3277.333333</td>\n",
       "      <td>2029.333333</td>\n",
       "      <td>4055.666667</td>\n",
       "      <td>5128.119850</td>\n",
       "    </tr>\n",
       "    <tr>\n",
       "      <th>2009-01-10</th>\n",
       "      <td>2668.000000</td>\n",
       "      <td>1290.333333</td>\n",
       "      <td>4214.666667</td>\n",
       "      <td>4798.666667</td>\n",
       "    </tr>\n",
       "  </tbody>\n",
       "</table>\n",
       "</div>"
      ],
      "text/plain": [
       "                  Berri  Maisonneuve1  Maisonneuve2      Brebeuf\n",
       "Date                                                            \n",
       "2009-01-01          NaN           NaN           NaN          NaN\n",
       "2009-01-02          NaN           NaN           NaN          NaN\n",
       "2009-01-03    36.666667     17.333333     39.000000  2576.359551\n",
       "2009-01-04    27.000000     10.666667     27.333333  2576.359551\n",
       "2009-01-05   664.000000    428.666667    527.000000  2576.359551\n",
       "2009-01-06  1733.000000   1116.333333   1409.000000  2576.359551\n",
       "2009-01-07  3223.333333   1862.666667   2426.000000  2576.359551\n",
       "2009-01-08  2602.666667   1795.000000   3042.666667  3673.906367\n",
       "2009-01-09  3277.333333   2029.333333   4055.666667  5128.119850\n",
       "2009-01-10  2668.000000   1290.333333   4214.666667  4798.666667"
      ]
     },
     "execution_count": 152,
     "metadata": {},
     "output_type": "execute_result"
    }
   ],
   "source": [
    "df.rolling(3).mean().head(10)"
   ]
  },
  {
   "cell_type": "code",
   "execution_count": 153,
   "metadata": {},
   "outputs": [
    {
     "data": {
      "text/html": [
       "<div>\n",
       "<style scoped>\n",
       "    .dataframe tbody tr th:only-of-type {\n",
       "        vertical-align: middle;\n",
       "    }\n",
       "\n",
       "    .dataframe tbody tr th {\n",
       "        vertical-align: top;\n",
       "    }\n",
       "\n",
       "    .dataframe thead th {\n",
       "        text-align: right;\n",
       "    }\n",
       "</style>\n",
       "<table border=\"1\" class=\"dataframe\">\n",
       "  <thead>\n",
       "    <tr style=\"text-align: right;\">\n",
       "      <th></th>\n",
       "      <th>Berri</th>\n",
       "      <th>Maisonneuve1</th>\n",
       "      <th>Maisonneuve2</th>\n",
       "      <th>Brebeuf</th>\n",
       "    </tr>\n",
       "    <tr>\n",
       "      <th>Date</th>\n",
       "      <th></th>\n",
       "      <th></th>\n",
       "      <th></th>\n",
       "      <th></th>\n",
       "    </tr>\n",
       "  </thead>\n",
       "  <tbody>\n",
       "    <tr>\n",
       "      <th>2009-01-01 00:05:00</th>\n",
       "      <td>29</td>\n",
       "      <td>20</td>\n",
       "      <td>35</td>\n",
       "      <td>2576.359551</td>\n",
       "    </tr>\n",
       "    <tr>\n",
       "      <th>2009-01-02 00:05:00</th>\n",
       "      <td>14</td>\n",
       "      <td>2</td>\n",
       "      <td>2</td>\n",
       "      <td>2576.359551</td>\n",
       "    </tr>\n",
       "    <tr>\n",
       "      <th>2009-01-03 00:05:00</th>\n",
       "      <td>67</td>\n",
       "      <td>30</td>\n",
       "      <td>80</td>\n",
       "      <td>2576.359551</td>\n",
       "    </tr>\n",
       "    <tr>\n",
       "      <th>2009-01-04 00:05:00</th>\n",
       "      <td>0</td>\n",
       "      <td>0</td>\n",
       "      <td>0</td>\n",
       "      <td>2576.359551</td>\n",
       "    </tr>\n",
       "    <tr>\n",
       "      <th>2009-01-05 00:05:00</th>\n",
       "      <td>1925</td>\n",
       "      <td>1256</td>\n",
       "      <td>1501</td>\n",
       "      <td>2576.359551</td>\n",
       "    </tr>\n",
       "  </tbody>\n",
       "</table>\n",
       "</div>"
      ],
      "text/plain": [
       "                     Berri  Maisonneuve1  Maisonneuve2      Brebeuf\n",
       "Date                                                               \n",
       "2009-01-01 00:05:00     29            20            35  2576.359551\n",
       "2009-01-02 00:05:00     14             2             2  2576.359551\n",
       "2009-01-03 00:05:00     67            30            80  2576.359551\n",
       "2009-01-04 00:05:00      0             0             0  2576.359551\n",
       "2009-01-05 00:05:00   1925          1256          1501  2576.359551"
      ]
     },
     "execution_count": 153,
     "metadata": {},
     "output_type": "execute_result"
    }
   ],
   "source": [
    "df.index = df.index + pd.Timedelta(\"5m\")\n",
    "df.head()"
   ]
  },
  {
   "cell_type": "code",
   "execution_count": 154,
   "metadata": {},
   "outputs": [
    {
     "data": {
      "text/html": [
       "<div>\n",
       "<style scoped>\n",
       "    .dataframe tbody tr th:only-of-type {\n",
       "        vertical-align: middle;\n",
       "    }\n",
       "\n",
       "    .dataframe tbody tr th {\n",
       "        vertical-align: top;\n",
       "    }\n",
       "\n",
       "    .dataframe thead th {\n",
       "        text-align: right;\n",
       "    }\n",
       "</style>\n",
       "<table border=\"1\" class=\"dataframe\">\n",
       "  <thead>\n",
       "    <tr style=\"text-align: right;\">\n",
       "      <th></th>\n",
       "      <th>Berri</th>\n",
       "      <th>Maisonneuve1</th>\n",
       "      <th>Maisonneuve2</th>\n",
       "      <th>Brebeuf</th>\n",
       "    </tr>\n",
       "    <tr>\n",
       "      <th>Date</th>\n",
       "      <th></th>\n",
       "      <th></th>\n",
       "      <th></th>\n",
       "      <th></th>\n",
       "    </tr>\n",
       "  </thead>\n",
       "  <tbody>\n",
       "    <tr>\n",
       "      <th>2010-01-01 00:05:00</th>\n",
       "      <td>29</td>\n",
       "      <td>20</td>\n",
       "      <td>35</td>\n",
       "      <td>2576.359551</td>\n",
       "    </tr>\n",
       "    <tr>\n",
       "      <th>2010-01-02 00:05:00</th>\n",
       "      <td>14</td>\n",
       "      <td>2</td>\n",
       "      <td>2</td>\n",
       "      <td>2576.359551</td>\n",
       "    </tr>\n",
       "    <tr>\n",
       "      <th>2010-01-03 00:05:00</th>\n",
       "      <td>67</td>\n",
       "      <td>30</td>\n",
       "      <td>80</td>\n",
       "      <td>2576.359551</td>\n",
       "    </tr>\n",
       "    <tr>\n",
       "      <th>2010-01-04 00:05:00</th>\n",
       "      <td>0</td>\n",
       "      <td>0</td>\n",
       "      <td>0</td>\n",
       "      <td>2576.359551</td>\n",
       "    </tr>\n",
       "    <tr>\n",
       "      <th>2010-01-05 00:05:00</th>\n",
       "      <td>1925</td>\n",
       "      <td>1256</td>\n",
       "      <td>1501</td>\n",
       "      <td>2576.359551</td>\n",
       "    </tr>\n",
       "  </tbody>\n",
       "</table>\n",
       "</div>"
      ],
      "text/plain": [
       "                     Berri  Maisonneuve1  Maisonneuve2      Brebeuf\n",
       "Date                                                               \n",
       "2010-01-01 00:05:00     29            20            35  2576.359551\n",
       "2010-01-02 00:05:00     14             2             2  2576.359551\n",
       "2010-01-03 00:05:00     67            30            80  2576.359551\n",
       "2010-01-04 00:05:00      0             0             0  2576.359551\n",
       "2010-01-05 00:05:00   1925          1256          1501  2576.359551"
      ]
     },
     "execution_count": 154,
     "metadata": {},
     "output_type": "execute_result"
    }
   ],
   "source": [
    "df.shift(freq=pd.Timedelta(days=365)).head()"
   ]
  },
  {
   "cell_type": "code",
   "execution_count": 155,
   "metadata": {},
   "outputs": [
    {
     "data": {
      "text/html": [
       "<div>\n",
       "<style scoped>\n",
       "    .dataframe tbody tr th:only-of-type {\n",
       "        vertical-align: middle;\n",
       "    }\n",
       "\n",
       "    .dataframe tbody tr th {\n",
       "        vertical-align: top;\n",
       "    }\n",
       "\n",
       "    .dataframe thead th {\n",
       "        text-align: right;\n",
       "    }\n",
       "</style>\n",
       "<table border=\"1\" class=\"dataframe\">\n",
       "  <thead>\n",
       "    <tr style=\"text-align: right;\">\n",
       "      <th></th>\n",
       "      <th>Berri</th>\n",
       "      <th>Maisonneuve1</th>\n",
       "      <th>Maisonneuve2</th>\n",
       "      <th>Brebeuf</th>\n",
       "    </tr>\n",
       "    <tr>\n",
       "      <th>Date</th>\n",
       "      <th></th>\n",
       "      <th></th>\n",
       "      <th></th>\n",
       "      <th></th>\n",
       "    </tr>\n",
       "  </thead>\n",
       "  <tbody>\n",
       "    <tr>\n",
       "      <th>2009-01-01 00:05:00</th>\n",
       "      <td>29</td>\n",
       "      <td>20</td>\n",
       "      <td>35</td>\n",
       "      <td>2576.359551</td>\n",
       "    </tr>\n",
       "    <tr>\n",
       "      <th>2009-01-03 00:05:00</th>\n",
       "      <td>67</td>\n",
       "      <td>30</td>\n",
       "      <td>80</td>\n",
       "      <td>2576.359551</td>\n",
       "    </tr>\n",
       "    <tr>\n",
       "      <th>2009-01-05 00:05:00</th>\n",
       "      <td>1925</td>\n",
       "      <td>1256</td>\n",
       "      <td>1501</td>\n",
       "      <td>2576.359551</td>\n",
       "    </tr>\n",
       "    <tr>\n",
       "      <th>2009-01-07 00:05:00</th>\n",
       "      <td>4471</td>\n",
       "      <td>2239</td>\n",
       "      <td>3051</td>\n",
       "      <td>2576.359551</td>\n",
       "    </tr>\n",
       "    <tr>\n",
       "      <th>2009-01-09 00:05:00</th>\n",
       "      <td>5298</td>\n",
       "      <td>2796</td>\n",
       "      <td>5765</td>\n",
       "      <td>6939.000000</td>\n",
       "    </tr>\n",
       "  </tbody>\n",
       "</table>\n",
       "</div>"
      ],
      "text/plain": [
       "                     Berri  Maisonneuve1  Maisonneuve2      Brebeuf\n",
       "Date                                                               \n",
       "2009-01-01 00:05:00     29            20            35  2576.359551\n",
       "2009-01-03 00:05:00     67            30            80  2576.359551\n",
       "2009-01-05 00:05:00   1925          1256          1501  2576.359551\n",
       "2009-01-07 00:05:00   4471          2239          3051  2576.359551\n",
       "2009-01-09 00:05:00   5298          2796          5765  6939.000000"
      ]
     },
     "execution_count": 155,
     "metadata": {},
     "output_type": "execute_result"
    }
   ],
   "source": [
    "# Resampling!\n",
    "df.resample(pd.Timedelta(\"2d\")).first().head()"
   ]
  },
  {
   "cell_type": "code",
   "execution_count": 156,
   "metadata": {},
   "outputs": [
    {
     "data": {
      "text/html": [
       "<div>\n",
       "<style scoped>\n",
       "    .dataframe tbody tr th:only-of-type {\n",
       "        vertical-align: middle;\n",
       "    }\n",
       "\n",
       "    .dataframe tbody tr th {\n",
       "        vertical-align: top;\n",
       "    }\n",
       "\n",
       "    .dataframe thead th {\n",
       "        text-align: right;\n",
       "    }\n",
       "</style>\n",
       "<table border=\"1\" class=\"dataframe\">\n",
       "  <thead>\n",
       "    <tr style=\"text-align: right;\">\n",
       "      <th></th>\n",
       "      <th>Berri</th>\n",
       "      <th>Maisonneuve1</th>\n",
       "      <th>Maisonneuve2</th>\n",
       "      <th>Brebeuf</th>\n",
       "    </tr>\n",
       "    <tr>\n",
       "      <th>Date</th>\n",
       "      <th></th>\n",
       "      <th></th>\n",
       "      <th></th>\n",
       "      <th></th>\n",
       "    </tr>\n",
       "  </thead>\n",
       "  <tbody>\n",
       "    <tr>\n",
       "      <th>2009-01-01 00:05:00</th>\n",
       "      <td>21.5</td>\n",
       "      <td>11.0</td>\n",
       "      <td>18.5</td>\n",
       "      <td>2576.359551</td>\n",
       "    </tr>\n",
       "    <tr>\n",
       "      <th>2009-01-03 00:05:00</th>\n",
       "      <td>33.5</td>\n",
       "      <td>15.0</td>\n",
       "      <td>40.0</td>\n",
       "      <td>2576.359551</td>\n",
       "    </tr>\n",
       "    <tr>\n",
       "      <th>2009-01-05 00:05:00</th>\n",
       "      <td>2599.5</td>\n",
       "      <td>1674.5</td>\n",
       "      <td>2113.5</td>\n",
       "      <td>2576.359551</td>\n",
       "    </tr>\n",
       "    <tr>\n",
       "      <th>2009-01-07 00:05:00</th>\n",
       "      <td>2267.0</td>\n",
       "      <td>1646.0</td>\n",
       "      <td>3201.0</td>\n",
       "      <td>4222.679775</td>\n",
       "    </tr>\n",
       "    <tr>\n",
       "      <th>2009-01-09 00:05:00</th>\n",
       "      <td>3970.5</td>\n",
       "      <td>1409.0</td>\n",
       "      <td>4646.5</td>\n",
       "      <td>4263.500000</td>\n",
       "    </tr>\n",
       "  </tbody>\n",
       "</table>\n",
       "</div>"
      ],
      "text/plain": [
       "                      Berri  Maisonneuve1  Maisonneuve2      Brebeuf\n",
       "Date                                                                \n",
       "2009-01-01 00:05:00    21.5          11.0          18.5  2576.359551\n",
       "2009-01-03 00:05:00    33.5          15.0          40.0  2576.359551\n",
       "2009-01-05 00:05:00  2599.5        1674.5        2113.5  2576.359551\n",
       "2009-01-07 00:05:00  2267.0        1646.0        3201.0  4222.679775\n",
       "2009-01-09 00:05:00  3970.5        1409.0        4646.5  4263.500000"
      ]
     },
     "execution_count": 156,
     "metadata": {},
     "output_type": "execute_result"
    }
   ],
   "source": [
    "df.resample(pd.Timedelta(\"2d\")).mean().head()"
   ]
  },
  {
   "cell_type": "code",
   "execution_count": 157,
   "metadata": {},
   "outputs": [
    {
     "data": {
      "text/html": [
       "<div>\n",
       "<style scoped>\n",
       "    .dataframe tbody tr th:only-of-type {\n",
       "        vertical-align: middle;\n",
       "    }\n",
       "\n",
       "    .dataframe tbody tr th {\n",
       "        vertical-align: top;\n",
       "    }\n",
       "\n",
       "    .dataframe thead th {\n",
       "        text-align: right;\n",
       "    }\n",
       "</style>\n",
       "<table border=\"1\" class=\"dataframe\">\n",
       "  <thead>\n",
       "    <tr style=\"text-align: right;\">\n",
       "      <th></th>\n",
       "      <th>Berri</th>\n",
       "      <th>Maisonneuve1</th>\n",
       "      <th>Maisonneuve2</th>\n",
       "      <th>Brebeuf</th>\n",
       "    </tr>\n",
       "    <tr>\n",
       "      <th>Date</th>\n",
       "      <th></th>\n",
       "      <th></th>\n",
       "      <th></th>\n",
       "      <th></th>\n",
       "    </tr>\n",
       "  </thead>\n",
       "  <tbody>\n",
       "    <tr>\n",
       "      <th>2009-01-01 00:00:00</th>\n",
       "      <td>29.0</td>\n",
       "      <td>20.0</td>\n",
       "      <td>35.0</td>\n",
       "      <td>2576.359551</td>\n",
       "    </tr>\n",
       "    <tr>\n",
       "      <th>2009-01-01 12:00:00</th>\n",
       "      <td>NaN</td>\n",
       "      <td>NaN</td>\n",
       "      <td>NaN</td>\n",
       "      <td>NaN</td>\n",
       "    </tr>\n",
       "    <tr>\n",
       "      <th>2009-01-02 00:00:00</th>\n",
       "      <td>14.0</td>\n",
       "      <td>2.0</td>\n",
       "      <td>2.0</td>\n",
       "      <td>2576.359551</td>\n",
       "    </tr>\n",
       "    <tr>\n",
       "      <th>2009-01-02 12:00:00</th>\n",
       "      <td>NaN</td>\n",
       "      <td>NaN</td>\n",
       "      <td>NaN</td>\n",
       "      <td>NaN</td>\n",
       "    </tr>\n",
       "    <tr>\n",
       "      <th>2009-01-03 00:00:00</th>\n",
       "      <td>67.0</td>\n",
       "      <td>30.0</td>\n",
       "      <td>80.0</td>\n",
       "      <td>2576.359551</td>\n",
       "    </tr>\n",
       "  </tbody>\n",
       "</table>\n",
       "</div>"
      ],
      "text/plain": [
       "                     Berri  Maisonneuve1  Maisonneuve2      Brebeuf\n",
       "Date                                                               \n",
       "2009-01-01 00:00:00   29.0          20.0          35.0  2576.359551\n",
       "2009-01-01 12:00:00    NaN           NaN           NaN          NaN\n",
       "2009-01-02 00:00:00   14.0           2.0           2.0  2576.359551\n",
       "2009-01-02 12:00:00    NaN           NaN           NaN          NaN\n",
       "2009-01-03 00:00:00   67.0          30.0          80.0  2576.359551"
      ]
     },
     "execution_count": 157,
     "metadata": {},
     "output_type": "execute_result"
    }
   ],
   "source": [
    "df.resample(pd.Timedelta(\"12h\")).first().head()"
   ]
  },
  {
   "cell_type": "code",
   "execution_count": 158,
   "metadata": {},
   "outputs": [
    {
     "data": {
      "text/html": [
       "<div>\n",
       "<style scoped>\n",
       "    .dataframe tbody tr th:only-of-type {\n",
       "        vertical-align: middle;\n",
       "    }\n",
       "\n",
       "    .dataframe tbody tr th {\n",
       "        vertical-align: top;\n",
       "    }\n",
       "\n",
       "    .dataframe thead th {\n",
       "        text-align: right;\n",
       "    }\n",
       "</style>\n",
       "<table border=\"1\" class=\"dataframe\">\n",
       "  <thead>\n",
       "    <tr style=\"text-align: right;\">\n",
       "      <th></th>\n",
       "      <th>Berri</th>\n",
       "      <th>Maisonneuve1</th>\n",
       "      <th>Maisonneuve2</th>\n",
       "      <th>Brebeuf</th>\n",
       "    </tr>\n",
       "    <tr>\n",
       "      <th>Date</th>\n",
       "      <th></th>\n",
       "      <th></th>\n",
       "      <th></th>\n",
       "      <th></th>\n",
       "    </tr>\n",
       "  </thead>\n",
       "  <tbody>\n",
       "    <tr>\n",
       "      <th>2009-01-01 00:00:00</th>\n",
       "      <td>NaN</td>\n",
       "      <td>NaN</td>\n",
       "      <td>NaN</td>\n",
       "      <td>NaN</td>\n",
       "    </tr>\n",
       "    <tr>\n",
       "      <th>2009-01-01 12:00:00</th>\n",
       "      <td>29.0</td>\n",
       "      <td>20.0</td>\n",
       "      <td>35.0</td>\n",
       "      <td>2576.359551</td>\n",
       "    </tr>\n",
       "    <tr>\n",
       "      <th>2009-01-02 00:00:00</th>\n",
       "      <td>29.0</td>\n",
       "      <td>20.0</td>\n",
       "      <td>35.0</td>\n",
       "      <td>2576.359551</td>\n",
       "    </tr>\n",
       "    <tr>\n",
       "      <th>2009-01-02 12:00:00</th>\n",
       "      <td>14.0</td>\n",
       "      <td>2.0</td>\n",
       "      <td>2.0</td>\n",
       "      <td>2576.359551</td>\n",
       "    </tr>\n",
       "    <tr>\n",
       "      <th>2009-01-03 00:00:00</th>\n",
       "      <td>14.0</td>\n",
       "      <td>2.0</td>\n",
       "      <td>2.0</td>\n",
       "      <td>2576.359551</td>\n",
       "    </tr>\n",
       "  </tbody>\n",
       "</table>\n",
       "</div>"
      ],
      "text/plain": [
       "                     Berri  Maisonneuve1  Maisonneuve2      Brebeuf\n",
       "Date                                                               \n",
       "2009-01-01 00:00:00    NaN           NaN           NaN          NaN\n",
       "2009-01-01 12:00:00   29.0          20.0          35.0  2576.359551\n",
       "2009-01-02 00:00:00   29.0          20.0          35.0  2576.359551\n",
       "2009-01-02 12:00:00   14.0           2.0           2.0  2576.359551\n",
       "2009-01-03 00:00:00   14.0           2.0           2.0  2576.359551"
      ]
     },
     "execution_count": 158,
     "metadata": {},
     "output_type": "execute_result"
    }
   ],
   "source": [
    "# Oversampling\n",
    "df.resample(pd.Timedelta(\"12h\")).fillna(method=\"pad\").head()"
   ]
  },
  {
   "cell_type": "code",
   "execution_count": 159,
   "metadata": {},
   "outputs": [
    {
     "data": {
      "text/plain": [
       "<matplotlib.axes._subplots.AxesSubplot at 0x7f3c8ad322b0>"
      ]
     },
     "execution_count": 159,
     "metadata": {},
     "output_type": "execute_result"
    },
    {
     "data": {
      "image/png": "[encoded data removed]",
      "text/plain": [
       "<Figure size 432x288 with 1 Axes>"
      ]
     },
     "metadata": {
      "needs_background": "light"
     },
     "output_type": "display_data"
    }
   ],
   "source": [
    "df.plot()"
   ]
  },
  {
   "cell_type": "code",
   "execution_count": 160,
   "metadata": {},
   "outputs": [
    {
     "data": {
      "text/plain": [
       "<matplotlib.axes._subplots.AxesSubplot at 0x7f3c8ad20e48>"
      ]
     },
     "execution_count": 160,
     "metadata": {},
     "output_type": "execute_result"
    },
    {
     "data": {
      "image/png": "[encoded data removed]",
      "text/plain": [
       "<Figure size 432x288 with 1 Axes>"
      ]
     },
     "metadata": {
      "needs_background": "light"
     },
     "output_type": "display_data"
    }
   ],
   "source": [
    "df.Maisonneuve1.cumsum().plot()"
   ]
  },
  {
   "cell_type": "code",
   "execution_count": 161,
   "metadata": {
    "scrolled": false
   },
   "outputs": [
    {
     "data": {
      "image/png": "[encoded data removed]",
      "text/plain": [
       "<Figure size 720x720 with 16 Axes>"
      ]
     },
     "metadata": {
      "needs_background": "light"
     },
     "output_type": "display_data"
    }
   ],
   "source": [
    "pd.plotting.scatter_matrix(df, figsize=(10,10));"
   ]
  },
  {
   "cell_type": "code",
   "execution_count": null,
   "metadata": {},
   "outputs": [],
   "source": []
  }
 ],
 "metadata": {
  "kernelspec": {
   "display_name": "Python 3",
   "language": "python",
   "name": "python3"
  },
  "language_info": {
   "codemirror_mode": {
    "name": "ipython",
    "version": 3
   },
   "file_extension": ".py",
   "mimetype": "text/x-python",
   "name": "python",
   "nbconvert_exporter": "python",
   "pygments_lexer": "ipython3",
   "version": "3.6.7"
  }
 },
 "nbformat": 4,
 "nbformat_minor": 2
}
